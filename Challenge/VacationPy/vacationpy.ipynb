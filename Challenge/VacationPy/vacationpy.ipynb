{
 "cells": [
  {
   "cell_type": "code",
   "execution_count": 1,
   "metadata": {},
   "outputs": [],
   "source": [
    "# Dependencies and Setup\n",
    "import matplotlib.pyplot as plt\n",
    "import pandas as pd\n",
    "import numpy as np\n",
    "import requests\n",
    "import gmaps\n",
    "import os\n",
    "\n",
    "# Import API key\n",
    "from config import gkey"
   ]
  },
  {
   "cell_type": "code",
   "execution_count": 2,
   "metadata": {},
   "outputs": [
    {
     "name": "stdout",
     "output_type": "stream",
     "text": [
      "              City  Latitude  Longitude Max Temperature: Humidity Cloudiness  \\\n",
      "0      yellowknife    62.456  -114.3525           264.44       79         75   \n",
      "1          labuhan   -6.8844   112.2051           298.85       83        100   \n",
      "2    san cristobal    7.7669    -72.225           298.96       63         61   \n",
      "3        carnarvon  -24.8667   113.6333           291.59       60         99   \n",
      "4            vaini     -21.2     -175.2           298.27       71         76   \n",
      "..             ...       ...        ...              ...      ...        ...   \n",
      "539        ipixuna   40.1292   124.3947           280.49       95         41   \n",
      "540         hirara     65.75     150.85           247.47       99        100   \n",
      "541         sydney  -11.9472   -75.2829           288.16       61         96   \n",
      "542           miri   14.4012    33.5199           298.77       18          0   \n",
      "543  ust-kamchatsk   14.6937   -17.4441           302.64       73         82   \n",
      "\n",
      "    Wind Speed Country        Date  \n",
      "0         4.63      CA  1668714658  \n",
      "1         5.07      ID  1668714657  \n",
      "2         2.11      VE  1668715205  \n",
      "3         8.25      AU  1668714912  \n",
      "4         2.83      TO  1668715206  \n",
      "..         ...     ...         ...  \n",
      "539       2.24      CN  1668715511  \n",
      "540          4      RU  1668715512  \n",
      "541       3.28      PE  1668715512  \n",
      "542        6.4      SD  1668715513  \n",
      "543       4.64      SN  1668715513  \n",
      "\n",
      "[542 rows x 9 columns]\n"
     ]
    }
   ],
   "source": [
    "citycsv = r'C:\\Users\\stave\\OneDrive\\Desktop\\Bootcamp\\week 6\\Challenge\\WeatherPy\\city_data.csv'\n",
    "city_csv = pd.read_csv(citycsv, index_col=0)\n",
    "city_data = pd.DataFrame(city_csv).transpose()\n",
    "city_data = city_data.dropna()\n",
    "print(city_data)\n"
   ]
  },
  {
   "cell_type": "code",
   "execution_count": 3,
   "metadata": {},
   "outputs": [],
   "source": [
    "gmaps.configure(api_key=gkey)"
   ]
  },
  {
   "cell_type": "code",
   "execution_count": 4,
   "metadata": {},
   "outputs": [
    {
     "data": {
      "application/vnd.jupyter.widget-view+json": {
       "model_id": "1e6da25836ad4054ba587fdd0fbccdf7",
       "version_major": 2,
       "version_minor": 0
      },
      "text/plain": [
       "Figure(layout=FigureLayout(height='420px'))"
      ]
     },
     "metadata": {},
     "output_type": "display_data"
    }
   ],
   "source": [
    "locations = city_data[[\"Latitude\", \"Longitude\"]].astype(float)\n",
    "humidity = city_data[\"Humidity\"]\n",
    "fig = gmaps.figure()\n",
    "city_marker = gmaps.symbol_layer(locations,fill_color='rgba(0, 150, 0, 0.4)',\n",
    "    stroke_color='rgba(0, 0, 150, 0.4)', scale=2)\n",
    "fig.add_layer(city_marker)\n",
    "fig"
   ]
  },
  {
   "cell_type": "code",
   "execution_count": 20,
   "metadata": {},
   "outputs": [
    {
     "name": "stdout",
     "output_type": "stream",
     "text": [
      "                City  Latitude  Longitude Max Temperature: Humidity  \\\n",
      "28          hermanus   20.5022   -10.0711           296.92       14   \n",
      "54      norman wells   29.0331    21.5482           293.16       25   \n",
      "80    saint-philippe   16.1525    36.2032           301.24       48   \n",
      "82     palabuhanratu  -20.4597    -66.825           294.71       12   \n",
      "107  verkhnevilyuysk    -31.95   141.4333           286.56       47   \n",
      "..               ...       ...        ...              ...      ...   \n",
      "529    batagay-alyta   70.2396    22.3479           277.25       40   \n",
      "530          eskasem   29.2747    82.1838           276.69       49   \n",
      "531        belyy yar   41.1415   -73.3579           281.79       46   \n",
      "536          aksarka   34.1478  -119.1951           300.07       17   \n",
      "542             miri   14.4012    33.5199           298.77       18   \n",
      "\n",
      "    Cloudiness Wind Speed Country        Date  \n",
      "28           0        3.9      MR  1668715220  \n",
      "54           0       4.89      LY  1668715235  \n",
      "80           0       6.62      SD  1668715251  \n",
      "82          22       3.26      BO  1668715252  \n",
      "107         43       4.71      AU  1668715082  \n",
      "..         ...        ...     ...         ...  \n",
      "529         14       3.15      NO  1668715505  \n",
      "530          0       1.72      NP  1668715506  \n",
      "531         20       6.69      US  1668715396  \n",
      "536         40       6.17      US  1668715509  \n",
      "542          0        6.4      SD  1668715513  \n",
      "\n",
      "[64 rows x 9 columns]\n"
     ]
    }
   ],
   "source": [
    "ideal = city_data[city_data[\"Humidity\"].astype(int) <50]\n",
    "ideal2 = ideal[ideal['Cloudiness'].astype(int) <50]\n",
    "\n",
    "print(ideal2)  "
   ]
  },
  {
   "cell_type": "code",
   "execution_count": 13,
   "metadata": {},
   "outputs": [
    {
     "name": "stdout",
     "output_type": "stream",
     "text": [
      "                City Country  Latitude  Longitude Humidity Hotel Name\n",
      "28          hermanus      MR   20.5022   -10.0711       14           \n",
      "54      norman wells      LY   29.0331    21.5482       25           \n",
      "80    saint-philippe      SD   16.1525    36.2032       48           \n",
      "82     palabuhanratu      BO  -20.4597    -66.825       12           \n",
      "107  verkhnevilyuysk      AU    -31.95   141.4333       47           \n",
      "..               ...     ...       ...        ...      ...        ...\n",
      "529    batagay-alyta      NO   70.2396    22.3479       40           \n",
      "530          eskasem      NP   29.2747    82.1838       49           \n",
      "531        belyy yar      US   41.1415   -73.3579       46           \n",
      "536          aksarka      US   34.1478  -119.1951       17           \n",
      "542             miri      SD   14.4012    33.5199       18           \n",
      "\n",
      "[64 rows x 6 columns]\n"
     ]
    }
   ],
   "source": [
    "hotel = ideal2[['City', 'Country','Latitude', 'Longitude', 'Humidity' ]].copy()\n",
    "hotel['Hotel Name'] = \"\"\n",
    "print(hotel)"
   ]
  },
  {
   "cell_type": "code",
   "execution_count": 23,
   "metadata": {},
   "outputs": [
    {
     "name": "stderr",
     "output_type": "stream",
     "text": [
      "C:\\Users\\stave\\AppData\\Local\\Temp\\ipykernel_15688\\4215870431.py:22: SettingWithCopyWarning: \n",
      "A value is trying to be set on a copy of a slice from a DataFrame.\n",
      "Try using .loc[row_indexer,col_indexer] = value instead\n",
      "\n",
      "See the caveats in the documentation: https://pandas.pydata.org/pandas-docs/stable/user_guide/indexing.html#returning-a-view-versus-a-copy\n",
      "  ideal2.loc[index, 'Hotel Name'] = hotel_address['results'][0]['name']\n"
     ]
    },
    {
     "data": {
      "text/html": [
       "<div>\n",
       "<style scoped>\n",
       "    .dataframe tbody tr th:only-of-type {\n",
       "        vertical-align: middle;\n",
       "    }\n",
       "\n",
       "    .dataframe tbody tr th {\n",
       "        vertical-align: top;\n",
       "    }\n",
       "\n",
       "    .dataframe thead th {\n",
       "        text-align: right;\n",
       "    }\n",
       "</style>\n",
       "<table border=\"1\" class=\"dataframe\">\n",
       "  <thead>\n",
       "    <tr style=\"text-align: right;\">\n",
       "      <th></th>\n",
       "      <th>City</th>\n",
       "      <th>Latitude</th>\n",
       "      <th>Longitude</th>\n",
       "      <th>Max Temperature:</th>\n",
       "      <th>Humidity</th>\n",
       "      <th>Cloudiness</th>\n",
       "      <th>Wind Speed</th>\n",
       "      <th>Country</th>\n",
       "      <th>Date</th>\n",
       "      <th>Hotel Name</th>\n",
       "    </tr>\n",
       "  </thead>\n",
       "  <tbody>\n",
       "    <tr>\n",
       "      <th>542</th>\n",
       "      <td>miri</td>\n",
       "      <td>14.4012</td>\n",
       "      <td>33.5199</td>\n",
       "      <td>298.77</td>\n",
       "      <td>18</td>\n",
       "      <td>0</td>\n",
       "      <td>6.4</td>\n",
       "      <td>SD</td>\n",
       "      <td>1668715513</td>\n",
       "      <td>International Hotel</td>\n",
       "    </tr>\n",
       "  </tbody>\n",
       "</table>\n",
       "</div>"
      ],
      "text/plain": [
       "     City Latitude Longitude Max Temperature: Humidity Cloudiness Wind Speed  \\\n",
       "542  miri  14.4012   33.5199           298.77       18          0        6.4   \n",
       "\n",
       "    Country        Date           Hotel Name  \n",
       "542      SD  1668715513  International Hotel  "
      ]
     },
     "execution_count": 23,
     "metadata": {},
     "output_type": "execute_result"
    }
   ],
   "source": [
    "params = {\n",
    "    \"radius\": 10000,\n",
    "    \"types\": \"hotel\",\n",
    "    \"keyword\": \"hotel\",\n",
    "    \"key\": gkey\n",
    "}\n",
    "\n",
    "for index, row in ideal2.iterrows():\n",
    "    # get lat, lng from df\n",
    "    lat = row[\"Latitude\"]\n",
    "    lng = row[\"Longitude\"]\n",
    "\n",
    "    params[\"location\"] = f\"{lat},{lng}\"\n",
    "\n",
    "base_url = \"https://maps.googleapis.com/maps/api/place/nearbysearch/json\"\n",
    "\n",
    "hotel_address = requests.get(base_url, params=params)\n",
    "\n",
    "hotel_address = hotel_address.json()\n",
    "\n",
    "try:\n",
    "    ideal2.loc[index, 'Hotel Name'] = hotel_address['results'][0]['name']\n",
    "except (KeyError, IndexError):\n",
    "    print('Missing')\n",
    "ideal3 = ideal2.dropna()\n",
    "ideal3"
   ]
  },
  {
   "cell_type": "code",
   "execution_count": 29,
   "metadata": {},
   "outputs": [
    {
     "data": {
      "application/vnd.jupyter.widget-view+json": {
       "model_id": "88eb82a263cf49a79e720d065ad8dee8",
       "version_major": 2,
       "version_minor": 0
      },
      "text/plain": [
       "Figure(layout=FigureLayout(height='420px'))"
      ]
     },
     "metadata": {},
     "output_type": "display_data"
    }
   ],
   "source": [
    "ideal_location = ideal2[[\"Latitude\", \"Longitude\"]].astype(float)\n",
    "humidity = ideal2[\"Humidity\"]\n",
    "fig2 = gmaps.figure()\n",
    "ideal_marker = gmaps.symbol_layer(ideal_location ,fill_color='red',\n",
    "    stroke_color='red')\n",
    "fig2.add_layer(ideal_marker)\n",
    "fig2"
   ]
  },
  {
   "cell_type": "code",
   "execution_count": 48,
   "metadata": {},
   "outputs": [
    {
     "data": {
      "application/vnd.jupyter.widget-view+json": {
       "model_id": "7453597eccf344839206605e74342c11",
       "version_major": 2,
       "version_minor": 0
      },
      "text/plain": [
       "Figure(layout=FigureLayout(height='420px'))"
      ]
     },
     "metadata": {},
     "output_type": "display_data"
    }
   ],
   "source": [
    "hotel_location = ideal3[[\"Latitude\", \"Longitude\"]].astype(float)\n",
    "humidity = ideal3[\"Humidity\"]\n",
    "hover_text = 'Latitude:14.4012, Longitude:33.5199, City:miri, Humidity:18,  Hotel Name: International Hotel, Country:SD '\n",
    "\n",
    "hotel_marker = gmaps.symbol_layer(hotel_location ,fill_color='green',\n",
    "    stroke_color='green', hover_text=hover_text)\n",
    "fig3.add_layer(hotel_marker)\n",
    "fig3"
   ]
  }
 ],
 "metadata": {
  "kernelspec": {
   "display_name": "Python 3.9.12 ('base')",
   "language": "python",
   "name": "python3"
  },
  "language_info": {
   "codemirror_mode": {
    "name": "ipython",
    "version": 3
   },
   "file_extension": ".py",
   "mimetype": "text/x-python",
   "name": "python",
   "nbconvert_exporter": "python",
   "pygments_lexer": "ipython3",
   "version": "3.9.12"
  },
  "orig_nbformat": 4,
  "vscode": {
   "interpreter": {
    "hash": "672f95992596be209d06f5f6d3f7a8efc119baec9c072cc4ba782951832ee5fa"
   }
  }
 },
 "nbformat": 4,
 "nbformat_minor": 2
}
